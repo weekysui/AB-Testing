{
 "cells": [
  {
   "cell_type": "markdown",
   "metadata": {},
   "source": [
    "# 1.  Load Library and Dataset"
   ]
  },
  {
   "cell_type": "code",
   "execution_count": 1,
   "metadata": {},
   "outputs": [],
   "source": [
    "import pandas as pd\n",
    "import matplotlib.pyplot as plt\n",
    "import datetime "
   ]
  },
  {
   "cell_type": "code",
   "execution_count": 9,
   "metadata": {},
   "outputs": [
    {
     "data": {
      "text/html": [
       "<div>\n",
       "<style scoped>\n",
       "    .dataframe tbody tr th:only-of-type {\n",
       "        vertical-align: middle;\n",
       "    }\n",
       "\n",
       "    .dataframe tbody tr th {\n",
       "        vertical-align: top;\n",
       "    }\n",
       "\n",
       "    .dataframe thead th {\n",
       "        text-align: right;\n",
       "    }\n",
       "</style>\n",
       "<table border=\"1\" class=\"dataframe\">\n",
       "  <thead>\n",
       "    <tr style=\"text-align: right;\">\n",
       "      <th></th>\n",
       "      <th>LYLTY_CARD_NBR</th>\n",
       "      <th>DATE</th>\n",
       "      <th>STORE_NBR</th>\n",
       "      <th>TXN_ID</th>\n",
       "      <th>PROD_NBR</th>\n",
       "      <th>PROD_NAME</th>\n",
       "      <th>PROD_QTY</th>\n",
       "      <th>TOT_SALES</th>\n",
       "      <th>PACK_SIZE</th>\n",
       "      <th>BRAND</th>\n",
       "      <th>LIFESTAGE</th>\n",
       "      <th>PREMIUM_CUSTOMER</th>\n",
       "    </tr>\n",
       "  </thead>\n",
       "  <tbody>\n",
       "    <tr>\n",
       "      <td>0</td>\n",
       "      <td>1000</td>\n",
       "      <td>2018-10-17</td>\n",
       "      <td>1</td>\n",
       "      <td>1</td>\n",
       "      <td>5</td>\n",
       "      <td>Natural Chip        Compny SeaSalt175g</td>\n",
       "      <td>2</td>\n",
       "      <td>6.0</td>\n",
       "      <td>175</td>\n",
       "      <td>NATURAL</td>\n",
       "      <td>YOUNG SINGLES/COUPLES</td>\n",
       "      <td>Premium</td>\n",
       "    </tr>\n",
       "    <tr>\n",
       "      <td>1</td>\n",
       "      <td>1002</td>\n",
       "      <td>2018-09-16</td>\n",
       "      <td>1</td>\n",
       "      <td>2</td>\n",
       "      <td>58</td>\n",
       "      <td>Red Rock Deli Chikn&amp;Garlic Aioli 150g</td>\n",
       "      <td>1</td>\n",
       "      <td>2.7</td>\n",
       "      <td>150</td>\n",
       "      <td>RRD</td>\n",
       "      <td>YOUNG SINGLES/COUPLES</td>\n",
       "      <td>Mainstream</td>\n",
       "    </tr>\n",
       "    <tr>\n",
       "      <td>2</td>\n",
       "      <td>1003</td>\n",
       "      <td>2019-03-07</td>\n",
       "      <td>1</td>\n",
       "      <td>3</td>\n",
       "      <td>52</td>\n",
       "      <td>Grain Waves Sour    Cream&amp;Chives 210G</td>\n",
       "      <td>1</td>\n",
       "      <td>3.6</td>\n",
       "      <td>210</td>\n",
       "      <td>GRNWVES</td>\n",
       "      <td>YOUNG FAMILIES</td>\n",
       "      <td>Budget</td>\n",
       "    </tr>\n",
       "    <tr>\n",
       "      <td>3</td>\n",
       "      <td>1003</td>\n",
       "      <td>2019-03-08</td>\n",
       "      <td>1</td>\n",
       "      <td>4</td>\n",
       "      <td>106</td>\n",
       "      <td>Natural ChipCo      Hony Soy Chckn175g</td>\n",
       "      <td>1</td>\n",
       "      <td>3.0</td>\n",
       "      <td>175</td>\n",
       "      <td>NATURAL</td>\n",
       "      <td>YOUNG FAMILIES</td>\n",
       "      <td>Budget</td>\n",
       "    </tr>\n",
       "    <tr>\n",
       "      <td>4</td>\n",
       "      <td>1004</td>\n",
       "      <td>2018-11-02</td>\n",
       "      <td>1</td>\n",
       "      <td>5</td>\n",
       "      <td>96</td>\n",
       "      <td>WW Original Stacked Chips 160g</td>\n",
       "      <td>1</td>\n",
       "      <td>1.9</td>\n",
       "      <td>160</td>\n",
       "      <td>WOOLWORTHS</td>\n",
       "      <td>OLDER SINGLES/COUPLES</td>\n",
       "      <td>Mainstream</td>\n",
       "    </tr>\n",
       "  </tbody>\n",
       "</table>\n",
       "</div>"
      ],
      "text/plain": [
       "   LYLTY_CARD_NBR        DATE  STORE_NBR  TXN_ID  PROD_NBR  \\\n",
       "0            1000  2018-10-17          1       1         5   \n",
       "1            1002  2018-09-16          1       2        58   \n",
       "2            1003  2019-03-07          1       3        52   \n",
       "3            1003  2019-03-08          1       4       106   \n",
       "4            1004  2018-11-02          1       5        96   \n",
       "\n",
       "                                PROD_NAME  PROD_QTY  TOT_SALES  PACK_SIZE  \\\n",
       "0  Natural Chip        Compny SeaSalt175g         2        6.0        175   \n",
       "1   Red Rock Deli Chikn&Garlic Aioli 150g         1        2.7        150   \n",
       "2   Grain Waves Sour    Cream&Chives 210G         1        3.6        210   \n",
       "3  Natural ChipCo      Hony Soy Chckn175g         1        3.0        175   \n",
       "4          WW Original Stacked Chips 160g         1        1.9        160   \n",
       "\n",
       "        BRAND              LIFESTAGE PREMIUM_CUSTOMER  \n",
       "0     NATURAL  YOUNG SINGLES/COUPLES          Premium  \n",
       "1         RRD  YOUNG SINGLES/COUPLES       Mainstream  \n",
       "2     GRNWVES         YOUNG FAMILIES           Budget  \n",
       "3     NATURAL         YOUNG FAMILIES           Budget  \n",
       "4  WOOLWORTHS  OLDER SINGLES/COUPLES       Mainstream  "
      ]
     },
     "execution_count": 9,
     "metadata": {},
     "output_type": "execute_result"
    }
   ],
   "source": [
    "transaction = pd.read_csv(\"QVI_data.csv\")\n",
    "transaction.head()"
   ]
  },
  {
   "cell_type": "code",
   "execution_count": 10,
   "metadata": {},
   "outputs": [
    {
     "data": {
      "text/html": [
       "<div>\n",
       "<style scoped>\n",
       "    .dataframe tbody tr th:only-of-type {\n",
       "        vertical-align: middle;\n",
       "    }\n",
       "\n",
       "    .dataframe tbody tr th {\n",
       "        vertical-align: top;\n",
       "    }\n",
       "\n",
       "    .dataframe thead th {\n",
       "        text-align: right;\n",
       "    }\n",
       "</style>\n",
       "<table border=\"1\" class=\"dataframe\">\n",
       "  <thead>\n",
       "    <tr style=\"text-align: right;\">\n",
       "      <th></th>\n",
       "      <th>LYLTY_CARD_NBR</th>\n",
       "      <th>DATE</th>\n",
       "      <th>STORE_NBR</th>\n",
       "      <th>TXN_ID</th>\n",
       "      <th>PROD_NBR</th>\n",
       "      <th>PROD_NAME</th>\n",
       "      <th>PROD_QTY</th>\n",
       "      <th>TOT_SALES</th>\n",
       "      <th>PACK_SIZE</th>\n",
       "      <th>BRAND</th>\n",
       "      <th>LIFESTAGE</th>\n",
       "      <th>PREMIUM_CUSTOMER</th>\n",
       "      <th>YEAR_MONTH</th>\n",
       "    </tr>\n",
       "  </thead>\n",
       "  <tbody>\n",
       "    <tr>\n",
       "      <td>0</td>\n",
       "      <td>1000</td>\n",
       "      <td>2018-10-17</td>\n",
       "      <td>1</td>\n",
       "      <td>1</td>\n",
       "      <td>5</td>\n",
       "      <td>Natural Chip        Compny SeaSalt175g</td>\n",
       "      <td>2</td>\n",
       "      <td>6.0</td>\n",
       "      <td>175</td>\n",
       "      <td>NATURAL</td>\n",
       "      <td>YOUNG SINGLES/COUPLES</td>\n",
       "      <td>Premium</td>\n",
       "      <td>2018-10</td>\n",
       "    </tr>\n",
       "    <tr>\n",
       "      <td>1</td>\n",
       "      <td>1002</td>\n",
       "      <td>2018-09-16</td>\n",
       "      <td>1</td>\n",
       "      <td>2</td>\n",
       "      <td>58</td>\n",
       "      <td>Red Rock Deli Chikn&amp;Garlic Aioli 150g</td>\n",
       "      <td>1</td>\n",
       "      <td>2.7</td>\n",
       "      <td>150</td>\n",
       "      <td>RRD</td>\n",
       "      <td>YOUNG SINGLES/COUPLES</td>\n",
       "      <td>Mainstream</td>\n",
       "      <td>2018-09</td>\n",
       "    </tr>\n",
       "    <tr>\n",
       "      <td>2</td>\n",
       "      <td>1003</td>\n",
       "      <td>2019-03-07</td>\n",
       "      <td>1</td>\n",
       "      <td>3</td>\n",
       "      <td>52</td>\n",
       "      <td>Grain Waves Sour    Cream&amp;Chives 210G</td>\n",
       "      <td>1</td>\n",
       "      <td>3.6</td>\n",
       "      <td>210</td>\n",
       "      <td>GRNWVES</td>\n",
       "      <td>YOUNG FAMILIES</td>\n",
       "      <td>Budget</td>\n",
       "      <td>2019-03</td>\n",
       "    </tr>\n",
       "    <tr>\n",
       "      <td>3</td>\n",
       "      <td>1003</td>\n",
       "      <td>2019-03-08</td>\n",
       "      <td>1</td>\n",
       "      <td>4</td>\n",
       "      <td>106</td>\n",
       "      <td>Natural ChipCo      Hony Soy Chckn175g</td>\n",
       "      <td>1</td>\n",
       "      <td>3.0</td>\n",
       "      <td>175</td>\n",
       "      <td>NATURAL</td>\n",
       "      <td>YOUNG FAMILIES</td>\n",
       "      <td>Budget</td>\n",
       "      <td>2019-03</td>\n",
       "    </tr>\n",
       "    <tr>\n",
       "      <td>4</td>\n",
       "      <td>1004</td>\n",
       "      <td>2018-11-02</td>\n",
       "      <td>1</td>\n",
       "      <td>5</td>\n",
       "      <td>96</td>\n",
       "      <td>WW Original Stacked Chips 160g</td>\n",
       "      <td>1</td>\n",
       "      <td>1.9</td>\n",
       "      <td>160</td>\n",
       "      <td>WOOLWORTHS</td>\n",
       "      <td>OLDER SINGLES/COUPLES</td>\n",
       "      <td>Mainstream</td>\n",
       "      <td>2018-11</td>\n",
       "    </tr>\n",
       "  </tbody>\n",
       "</table>\n",
       "</div>"
      ],
      "text/plain": [
       "   LYLTY_CARD_NBR        DATE  STORE_NBR  TXN_ID  PROD_NBR  \\\n",
       "0            1000  2018-10-17          1       1         5   \n",
       "1            1002  2018-09-16          1       2        58   \n",
       "2            1003  2019-03-07          1       3        52   \n",
       "3            1003  2019-03-08          1       4       106   \n",
       "4            1004  2018-11-02          1       5        96   \n",
       "\n",
       "                                PROD_NAME  PROD_QTY  TOT_SALES  PACK_SIZE  \\\n",
       "0  Natural Chip        Compny SeaSalt175g         2        6.0        175   \n",
       "1   Red Rock Deli Chikn&Garlic Aioli 150g         1        2.7        150   \n",
       "2   Grain Waves Sour    Cream&Chives 210G         1        3.6        210   \n",
       "3  Natural ChipCo      Hony Soy Chckn175g         1        3.0        175   \n",
       "4          WW Original Stacked Chips 160g         1        1.9        160   \n",
       "\n",
       "        BRAND              LIFESTAGE PREMIUM_CUSTOMER YEAR_MONTH  \n",
       "0     NATURAL  YOUNG SINGLES/COUPLES          Premium    2018-10  \n",
       "1         RRD  YOUNG SINGLES/COUPLES       Mainstream    2018-09  \n",
       "2     GRNWVES         YOUNG FAMILIES           Budget    2019-03  \n",
       "3     NATURAL         YOUNG FAMILIES           Budget    2019-03  \n",
       "4  WOOLWORTHS  OLDER SINGLES/COUPLES       Mainstream    2018-11  "
      ]
     },
     "execution_count": 10,
     "metadata": {},
     "output_type": "execute_result"
    }
   ],
   "source": [
    "transaction[\"YEAR_MONTH\"] = pd.to_datetime(transaction['DATE']).dt.to_period('M')\n",
    "transaction.head()"
   ]
  },
  {
   "cell_type": "code",
   "execution_count": 4,
   "metadata": {},
   "outputs": [
    {
     "data": {
      "text/plain": [
       "Text(0.5, 1.0, 'Monthly Total Salse by store ID')"
      ]
     },
     "execution_count": 4,
     "metadata": {},
     "output_type": "execute_result"
    },
    {
     "data": {
      "image/png": "[encoded data removed]",
      "text/plain": [
       "<Figure size 1440x648 with 1 Axes>"
      ]
     },
     "metadata": {
      "needs_background": "light"
     },
     "output_type": "display_data"
    }
   ],
   "source": [
    "stores = transaction[transaction['STORE_NBR'].isin([77,86,88])].groupby(['STORE_NBR', 'YEAR_MONTH'])['TOT_SALES'].sum()\n",
    "colors = []\n",
    "for store, month in stores.index:\n",
    "    if store == 77:\n",
    "        colors.append('blue')\n",
    "    elif store == 86:\n",
    "        colors.append('green')\n",
    "    else:\n",
    "        colors.append('red')\n",
    "stores.plot(kind='bar', color = colors, figsize = (20,9))\n",
    "plt.title(\"Monthly Total Salse by store ID\")"
   ]
  },
  {
   "cell_type": "code",
   "execution_count": 5,
   "metadata": {
    "scrolled": false
   },
   "outputs": [
    {
     "data": {
      "text/plain": [
       "Text(0.5, 1.0, 'Monthly Total Customers by store ID')"
      ]
     },
     "execution_count": 5,
     "metadata": {},
     "output_type": "execute_result"
    },
    {
     "data": {
      "image/png": "[encoded data removed]",
      "text/plain": [
       "<Figure size 1440x648 with 1 Axes>"
      ]
     },
     "metadata": {
      "needs_background": "light"
     },
     "output_type": "display_data"
    }
   ],
   "source": [
    "customers = transaction[transaction['STORE_NBR'].isin([77,86,88])].groupby(['STORE_NBR', 'YEAR_MONTH'])['LYLTY_CARD_NBR'].count()\n",
    "colors = []\n",
    "for store, month in customers.index:\n",
    "    if store == 77:\n",
    "        colors.append('blue')\n",
    "    elif store == 86:\n",
    "        colors.append('green')\n",
    "    else:\n",
    "        colors.append('red')\n",
    "customers.plot(kind='bar', color = colors, figsize = (20,9))\n",
    "plt.title(\"Monthly Total Customers by store ID\")"
   ]
  },
  {
   "cell_type": "markdown",
   "metadata": {},
   "source": [
    "Create a new dataframe for each store montly metrics below:\n",
    "- Total Sales\n",
    "- Number of Customer\n",
    "- Average transaction per customer\n",
    "- Average chips per customer\n",
    "- Average price per unit (每包薯片的单价)"
   ]
  },
  {
   "cell_type": "code",
   "execution_count": 16,
   "metadata": {},
   "outputs": [
    {
     "data": {
      "text/html": [
       "<div>\n",
       "<style scoped>\n",
       "    .dataframe tbody tr th:only-of-type {\n",
       "        vertical-align: middle;\n",
       "    }\n",
       "\n",
       "    .dataframe tbody tr th {\n",
       "        vertical-align: top;\n",
       "    }\n",
       "\n",
       "    .dataframe thead th {\n",
       "        text-align: right;\n",
       "    }\n",
       "</style>\n",
       "<table border=\"1\" class=\"dataframe\">\n",
       "  <thead>\n",
       "    <tr style=\"text-align: right;\">\n",
       "      <th></th>\n",
       "      <th></th>\n",
       "      <th>MONTHLY_SALES</th>\n",
       "      <th>MONTHLY_CUST</th>\n",
       "      <th>MONTHLY_TRANS_PER_CUST</th>\n",
       "      <th>MONTHLY_CHIPS_PER_TRANS</th>\n",
       "      <th>AVG_PRICE_PER_UNIT</th>\n",
       "    </tr>\n",
       "    <tr>\n",
       "      <th>STORE_NBR</th>\n",
       "      <th>YEAR_MONTH</th>\n",
       "      <th></th>\n",
       "      <th></th>\n",
       "      <th></th>\n",
       "      <th></th>\n",
       "      <th></th>\n",
       "    </tr>\n",
       "  </thead>\n",
       "  <tbody>\n",
       "    <tr>\n",
       "      <td rowspan=\"5\" valign=\"top\">1</td>\n",
       "      <td>2018-07</td>\n",
       "      <td>206.9</td>\n",
       "      <td>49</td>\n",
       "      <td>1.061224</td>\n",
       "      <td>1.265306</td>\n",
       "      <td>3.337097</td>\n",
       "    </tr>\n",
       "    <tr>\n",
       "      <td>2018-08</td>\n",
       "      <td>176.1</td>\n",
       "      <td>42</td>\n",
       "      <td>1.023810</td>\n",
       "      <td>1.285714</td>\n",
       "      <td>3.261111</td>\n",
       "    </tr>\n",
       "    <tr>\n",
       "      <td>2018-09</td>\n",
       "      <td>278.8</td>\n",
       "      <td>59</td>\n",
       "      <td>1.050847</td>\n",
       "      <td>1.271186</td>\n",
       "      <td>3.717333</td>\n",
       "    </tr>\n",
       "    <tr>\n",
       "      <td>2018-10</td>\n",
       "      <td>188.1</td>\n",
       "      <td>44</td>\n",
       "      <td>1.022727</td>\n",
       "      <td>1.318182</td>\n",
       "      <td>3.243103</td>\n",
       "    </tr>\n",
       "    <tr>\n",
       "      <td>2018-11</td>\n",
       "      <td>192.6</td>\n",
       "      <td>46</td>\n",
       "      <td>1.021739</td>\n",
       "      <td>1.239130</td>\n",
       "      <td>3.378947</td>\n",
       "    </tr>\n",
       "  </tbody>\n",
       "</table>\n",
       "</div>"
      ],
      "text/plain": [
       "                      MONTHLY_SALES  MONTHLY_CUST  MONTHLY_TRANS_PER_CUST  \\\n",
       "STORE_NBR YEAR_MONTH                                                        \n",
       "1         2018-07             206.9            49                1.061224   \n",
       "          2018-08             176.1            42                1.023810   \n",
       "          2018-09             278.8            59                1.050847   \n",
       "          2018-10             188.1            44                1.022727   \n",
       "          2018-11             192.6            46                1.021739   \n",
       "\n",
       "                      MONTHLY_CHIPS_PER_TRANS  AVG_PRICE_PER_UNIT  \n",
       "STORE_NBR YEAR_MONTH                                               \n",
       "1         2018-07                    1.265306            3.337097  \n",
       "          2018-08                    1.285714            3.261111  \n",
       "          2018-09                    1.271186            3.717333  \n",
       "          2018-10                    1.318182            3.243103  \n",
       "          2018-11                    1.239130            3.378947  "
      ]
     },
     "execution_count": 16,
     "metadata": {},
     "output_type": "execute_result"
    }
   ],
   "source": [
    "month_measures = transaction.groupby(['STORE_NBR','YEAR_MONTH'])\n",
    "total = month_measures['TOT_SALES'].sum()\n",
    "num_cust = month_measures['LYLTY_CARD_NBR'].nunique()\n",
    "trans_per_cust = month_measures.size()/num_cust\n",
    "avg_chips_per_cust = month_measures['PROD_QTY'].sum()/num_cust\n",
    "avg_chips_price = total/month_measures['PROD_QTY'].sum()\n",
    "columns = [total,num_cust,trans_per_cust, avg_chips_per_cust, avg_chips_price]\n",
    "store_measures = pd.concat(columns,axis = 1)\n",
    "store_measures.columns = ['MONTHLY_SALES', 'MONTHLY_CUST','MONTHLY_TRANS_PER_CUST',\n",
    "                          'MONTHLY_CHIPS_PER_TRANS','AVG_PRICE_PER_UNIT']\n",
    "store_measures.head()"
   ]
  },
  {
   "cell_type": "code",
   "execution_count": 17,
   "metadata": {},
   "outputs": [
    {
     "name": "stdout",
     "output_type": "stream",
     "text": [
      "<class 'pandas.core.frame.DataFrame'>\n",
      "MultiIndex: 3169 entries, (1, 2018-07) to (272, 2019-06)\n",
      "Data columns (total 5 columns):\n",
      "MONTHLY_SALES              3169 non-null float64\n",
      "MONTHLY_CUST               3169 non-null int64\n",
      "MONTHLY_TRANS_PER_CUST     3169 non-null float64\n",
      "MONTHLY_CHIPS_PER_TRANS    3169 non-null float64\n",
      "AVG_PRICE_PER_UNIT         3169 non-null float64\n",
      "dtypes: float64(4), int64(1)\n",
      "memory usage: 135.4 KB\n"
     ]
    }
   ],
   "source": [
    "store_measures.info()"
   ]
  },
  {
   "cell_type": "code",
   "execution_count": 18,
   "metadata": {},
   "outputs": [
    {
     "name": "stdout",
     "output_type": "stream",
     "text": [
      "store number with less than 12 months: [117, 44, 218, 193, 211, 252, 31, 206, 11, 92, 85, 76]\n",
      "before deletion: 3169\n",
      "deleted 12 records\n",
      "after deletion: 3120\n"
     ]
    }
   ],
   "source": [
    "# Filter to the pre‐trial period and stores with full observation periods\n",
    "# delete the stores with less than 12 month transaction\n",
    "store_measures=store_measures.reset_index()\n",
    "check = store_measures['STORE_NBR'].value_counts()\n",
    "check = check[check!=12]\n",
    "stores_with_less_than_12_months = check.index.to_list() # lst of store num need to be dropped\n",
    "print(f\"store number with less than 12 months: {stores_with_less_than_12_months}\")\n",
    "print(f\"before deletion: {len(store_measures.index)}\")\n",
    "print(f\"deleted {len(stores_with_less_than_12_months)} records\")\n",
    "store_measures = store_measures[~store_measures['STORE_NBR'].isin(stores_with_less_than_12_months)]\n",
    "print(f\"after deletion: {len(store_measures.index)}\")"
   ]
  },
  {
   "cell_type": "code",
   "execution_count": 19,
   "metadata": {},
   "outputs": [
    {
     "data": {
      "text/html": [
       "<div>\n",
       "<style scoped>\n",
       "    .dataframe tbody tr th:only-of-type {\n",
       "        vertical-align: middle;\n",
       "    }\n",
       "\n",
       "    .dataframe tbody tr th {\n",
       "        vertical-align: top;\n",
       "    }\n",
       "\n",
       "    .dataframe thead th {\n",
       "        text-align: right;\n",
       "    }\n",
       "</style>\n",
       "<table border=\"1\" class=\"dataframe\">\n",
       "  <thead>\n",
       "    <tr style=\"text-align: right;\">\n",
       "      <th></th>\n",
       "      <th>STORE_NBR</th>\n",
       "      <th>YEAR_MONTH</th>\n",
       "      <th>MONTHLY_SALES</th>\n",
       "      <th>MONTHLY_CUST</th>\n",
       "      <th>MONTHLY_TRANS_PER_CUST</th>\n",
       "      <th>MONTHLY_CHIPS_PER_TRANS</th>\n",
       "      <th>AVG_PRICE_PER_UNIT</th>\n",
       "    </tr>\n",
       "  </thead>\n",
       "  <tbody>\n",
       "    <tr>\n",
       "      <td>0</td>\n",
       "      <td>1</td>\n",
       "      <td>2018-07</td>\n",
       "      <td>206.9</td>\n",
       "      <td>49</td>\n",
       "      <td>1.061224</td>\n",
       "      <td>1.265306</td>\n",
       "      <td>3.337097</td>\n",
       "    </tr>\n",
       "    <tr>\n",
       "      <td>1</td>\n",
       "      <td>1</td>\n",
       "      <td>2018-08</td>\n",
       "      <td>176.1</td>\n",
       "      <td>42</td>\n",
       "      <td>1.023810</td>\n",
       "      <td>1.285714</td>\n",
       "      <td>3.261111</td>\n",
       "    </tr>\n",
       "    <tr>\n",
       "      <td>2</td>\n",
       "      <td>1</td>\n",
       "      <td>2018-09</td>\n",
       "      <td>278.8</td>\n",
       "      <td>59</td>\n",
       "      <td>1.050847</td>\n",
       "      <td>1.271186</td>\n",
       "      <td>3.717333</td>\n",
       "    </tr>\n",
       "    <tr>\n",
       "      <td>3</td>\n",
       "      <td>1</td>\n",
       "      <td>2018-10</td>\n",
       "      <td>188.1</td>\n",
       "      <td>44</td>\n",
       "      <td>1.022727</td>\n",
       "      <td>1.318182</td>\n",
       "      <td>3.243103</td>\n",
       "    </tr>\n",
       "    <tr>\n",
       "      <td>4</td>\n",
       "      <td>1</td>\n",
       "      <td>2018-11</td>\n",
       "      <td>192.6</td>\n",
       "      <td>46</td>\n",
       "      <td>1.021739</td>\n",
       "      <td>1.239130</td>\n",
       "      <td>3.378947</td>\n",
       "    </tr>\n",
       "  </tbody>\n",
       "</table>\n",
       "</div>"
      ],
      "text/plain": [
       "   STORE_NBR YEAR_MONTH  MONTHLY_SALES  MONTHLY_CUST  MONTHLY_TRANS_PER_CUST  \\\n",
       "0          1    2018-07          206.9            49                1.061224   \n",
       "1          1    2018-08          176.1            42                1.023810   \n",
       "2          1    2018-09          278.8            59                1.050847   \n",
       "3          1    2018-10          188.1            44                1.022727   \n",
       "4          1    2018-11          192.6            46                1.021739   \n",
       "\n",
       "   MONTHLY_CHIPS_PER_TRANS  AVG_PRICE_PER_UNIT  \n",
       "0                 1.265306            3.337097  \n",
       "1                 1.285714            3.261111  \n",
       "2                 1.271186            3.717333  \n",
       "3                 1.318182            3.243103  \n",
       "4                 1.239130            3.378947  "
      ]
     },
     "execution_count": 19,
     "metadata": {},
     "output_type": "execute_result"
    }
   ],
   "source": [
    "pre_trial = store_measures[store_measures['YEAR_MONTH']<\"2019-02\"]\n",
    "pre_trial.head()"
   ]
  },
  {
   "cell_type": "code",
   "execution_count": 20,
   "metadata": {},
   "outputs": [],
   "source": [
    "metrics_cols = ['STORE_NBR', 'YEAR_MONTH', 'MONTHLY_SALES',\n",
    "                'MONTHLY_CUST','MONTHLY_TRANS_PER_CUST',\n",
    "               'MONTHLY_CHIPS_PER_TRANS', 'AVG_PRICE_PER_UNIT']"
   ]
  },
  {
   "cell_type": "code",
   "execution_count": 21,
   "metadata": {},
   "outputs": [
    {
     "data": {
      "text/html": [
       "<div>\n",
       "<style scoped>\n",
       "    .dataframe tbody tr th:only-of-type {\n",
       "        vertical-align: middle;\n",
       "    }\n",
       "\n",
       "    .dataframe tbody tr th {\n",
       "        vertical-align: top;\n",
       "    }\n",
       "\n",
       "    .dataframe thead th {\n",
       "        text-align: right;\n",
       "    }\n",
       "</style>\n",
       "<table border=\"1\" class=\"dataframe\">\n",
       "  <thead>\n",
       "    <tr style=\"text-align: right;\">\n",
       "      <th></th>\n",
       "      <th></th>\n",
       "      <th>MONTHLY_SALES</th>\n",
       "      <th>MONTHLY_CUST</th>\n",
       "      <th>MONTHLY_TRANS_PER_CUST</th>\n",
       "      <th>MONTHLY_CHIPS_PER_TRANS</th>\n",
       "      <th>AVG_PRICE_PER_UNIT</th>\n",
       "    </tr>\n",
       "    <tr>\n",
       "      <th>STORE_NBR</th>\n",
       "      <th>YEAR_MONTH</th>\n",
       "      <th></th>\n",
       "      <th></th>\n",
       "      <th></th>\n",
       "      <th></th>\n",
       "      <th></th>\n",
       "    </tr>\n",
       "  </thead>\n",
       "  <tbody>\n",
       "    <tr>\n",
       "      <td rowspan=\"5\" valign=\"top\">1</td>\n",
       "      <td>2018-07</td>\n",
       "      <td>206.9</td>\n",
       "      <td>49</td>\n",
       "      <td>1.061224</td>\n",
       "      <td>1.265306</td>\n",
       "      <td>3.337097</td>\n",
       "    </tr>\n",
       "    <tr>\n",
       "      <td>2018-08</td>\n",
       "      <td>176.1</td>\n",
       "      <td>42</td>\n",
       "      <td>1.023810</td>\n",
       "      <td>1.285714</td>\n",
       "      <td>3.261111</td>\n",
       "    </tr>\n",
       "    <tr>\n",
       "      <td>2018-09</td>\n",
       "      <td>278.8</td>\n",
       "      <td>59</td>\n",
       "      <td>1.050847</td>\n",
       "      <td>1.271186</td>\n",
       "      <td>3.717333</td>\n",
       "    </tr>\n",
       "    <tr>\n",
       "      <td>2018-10</td>\n",
       "      <td>188.1</td>\n",
       "      <td>44</td>\n",
       "      <td>1.022727</td>\n",
       "      <td>1.318182</td>\n",
       "      <td>3.243103</td>\n",
       "    </tr>\n",
       "    <tr>\n",
       "      <td>2018-11</td>\n",
       "      <td>192.6</td>\n",
       "      <td>46</td>\n",
       "      <td>1.021739</td>\n",
       "      <td>1.239130</td>\n",
       "      <td>3.378947</td>\n",
       "    </tr>\n",
       "    <tr>\n",
       "      <td>...</td>\n",
       "      <td>...</td>\n",
       "      <td>...</td>\n",
       "      <td>...</td>\n",
       "      <td>...</td>\n",
       "      <td>...</td>\n",
       "      <td>...</td>\n",
       "    </tr>\n",
       "    <tr>\n",
       "      <td rowspan=\"5\" valign=\"top\">272</td>\n",
       "      <td>2018-09</td>\n",
       "      <td>304.7</td>\n",
       "      <td>32</td>\n",
       "      <td>1.125000</td>\n",
       "      <td>2.218750</td>\n",
       "      <td>4.291549</td>\n",
       "    </tr>\n",
       "    <tr>\n",
       "      <td>2018-10</td>\n",
       "      <td>430.6</td>\n",
       "      <td>44</td>\n",
       "      <td>1.159091</td>\n",
       "      <td>2.250000</td>\n",
       "      <td>4.349495</td>\n",
       "    </tr>\n",
       "    <tr>\n",
       "      <td>2018-11</td>\n",
       "      <td>376.2</td>\n",
       "      <td>41</td>\n",
       "      <td>1.097561</td>\n",
       "      <td>2.121951</td>\n",
       "      <td>4.324138</td>\n",
       "    </tr>\n",
       "    <tr>\n",
       "      <td>2018-12</td>\n",
       "      <td>403.9</td>\n",
       "      <td>47</td>\n",
       "      <td>1.000000</td>\n",
       "      <td>1.893617</td>\n",
       "      <td>4.538202</td>\n",
       "    </tr>\n",
       "    <tr>\n",
       "      <td>2019-01</td>\n",
       "      <td>423.0</td>\n",
       "      <td>46</td>\n",
       "      <td>1.086957</td>\n",
       "      <td>2.086957</td>\n",
       "      <td>4.406250</td>\n",
       "    </tr>\n",
       "  </tbody>\n",
       "</table>\n",
       "<p>1818 rows × 5 columns</p>\n",
       "</div>"
      ],
      "text/plain": [
       "                      MONTHLY_SALES  MONTHLY_CUST  MONTHLY_TRANS_PER_CUST  \\\n",
       "STORE_NBR YEAR_MONTH                                                        \n",
       "1         2018-07             206.9            49                1.061224   \n",
       "          2018-08             176.1            42                1.023810   \n",
       "          2018-09             278.8            59                1.050847   \n",
       "          2018-10             188.1            44                1.022727   \n",
       "          2018-11             192.6            46                1.021739   \n",
       "...                             ...           ...                     ...   \n",
       "272       2018-09             304.7            32                1.125000   \n",
       "          2018-10             430.6            44                1.159091   \n",
       "          2018-11             376.2            41                1.097561   \n",
       "          2018-12             403.9            47                1.000000   \n",
       "          2019-01             423.0            46                1.086957   \n",
       "\n",
       "                      MONTHLY_CHIPS_PER_TRANS  AVG_PRICE_PER_UNIT  \n",
       "STORE_NBR YEAR_MONTH                                               \n",
       "1         2018-07                    1.265306            3.337097  \n",
       "          2018-08                    1.285714            3.261111  \n",
       "          2018-09                    1.271186            3.717333  \n",
       "          2018-10                    1.318182            3.243103  \n",
       "          2018-11                    1.239130            3.378947  \n",
       "...                                       ...                 ...  \n",
       "272       2018-09                    2.218750            4.291549  \n",
       "          2018-10                    2.250000            4.349495  \n",
       "          2018-11                    2.121951            4.324138  \n",
       "          2018-12                    1.893617            4.538202  \n",
       "          2019-01                    2.086957            4.406250  \n",
       "\n",
       "[1818 rows x 5 columns]"
      ]
     },
     "execution_count": 21,
     "metadata": {},
     "output_type": "execute_result"
    }
   ],
   "source": [
    "def extract_metrics(df):\n",
    "    subdf = df.loc[:].set_index(['STORE_NBR','YEAR_MONTH']).sort_values(by=['STORE_NBR','YEAR_MONTH'])\n",
    "    subdf.drop_duplicates(inplace=True, keep='first')\n",
    "    return subdf\n",
    "metrics_df = extract_metrics(pre_trial)\n",
    "metrics_df"
   ]
  },
  {
   "cell_type": "code",
   "execution_count": 22,
   "metadata": {},
   "outputs": [],
   "source": [
    "# find correlation between trial stores and control stores one by one.\n",
    "# and caclulate the average of the correlation for each metric as a composite score to rank on\n",
    "def calc_correlation(trial_store):\n",
    "    '''\n",
    "    parameter: it takes one trial store_num to compare other stores with\n",
    "    output: new dataframe with correlation and mean correlation\n",
    "    '''\n",
    "    a = []\n",
    "    metrics = metrics_df[['MONTHLY_SALES','MONTHLY_CUST']]\n",
    "    for i in metrics.index:\n",
    "        a.append(metrics.loc[trial_store].corrwith(metrics.loc[i[0]])) #loc[i[0]]是store id\n",
    "#     对应到store 77所有store和他的correlation\n",
    "    subdf = pd.DataFrame(a)\n",
    "    subdf.head()\n",
    "    subdf.index = metrics.index\n",
    "    subdf = subdf.drop_duplicates()\n",
    "    subdf.index = [s[0] for s in subdf.index]\n",
    "    subdf = subdf.abs()\n",
    "    # and caclulate the average of the correlation for each metric \n",
    "#     as a composite score to rank on\n",
    "    subdf['mean_corr'] = subdf.mean(axis = 1)\n",
    "    subdf['TRIAL_STR'] = trial_store\n",
    "    subdf.sort_values(by='mean_corr', ascending = False, inplace=True)\n",
    "    return subdf"
   ]
  },
  {
   "cell_type": "code",
   "execution_count": 23,
   "metadata": {},
   "outputs": [
    {
     "data": {
      "text/html": [
       "<div>\n",
       "<style scoped>\n",
       "    .dataframe tbody tr th:only-of-type {\n",
       "        vertical-align: middle;\n",
       "    }\n",
       "\n",
       "    .dataframe tbody tr th {\n",
       "        vertical-align: top;\n",
       "    }\n",
       "\n",
       "    .dataframe thead th {\n",
       "        text-align: right;\n",
       "    }\n",
       "</style>\n",
       "<table border=\"1\" class=\"dataframe\">\n",
       "  <thead>\n",
       "    <tr style=\"text-align: right;\">\n",
       "      <th></th>\n",
       "      <th>MONTHLY_SALES</th>\n",
       "      <th>MONTHLY_CUST</th>\n",
       "      <th>mean_corr</th>\n",
       "      <th>TRIAL_STR</th>\n",
       "    </tr>\n",
       "  </thead>\n",
       "  <tbody>\n",
       "    <tr>\n",
       "      <td>233</td>\n",
       "      <td>0.903774</td>\n",
       "      <td>0.990358</td>\n",
       "      <td>0.947066</td>\n",
       "      <td>77</td>\n",
       "    </tr>\n",
       "    <tr>\n",
       "      <td>119</td>\n",
       "      <td>0.867664</td>\n",
       "      <td>0.983267</td>\n",
       "      <td>0.925466</td>\n",
       "      <td>77</td>\n",
       "    </tr>\n",
       "    <tr>\n",
       "      <td>71</td>\n",
       "      <td>0.914106</td>\n",
       "      <td>0.754817</td>\n",
       "      <td>0.834461</td>\n",
       "      <td>77</td>\n",
       "    </tr>\n",
       "    <tr>\n",
       "      <td>3</td>\n",
       "      <td>0.806644</td>\n",
       "      <td>0.834207</td>\n",
       "      <td>0.820426</td>\n",
       "      <td>77</td>\n",
       "    </tr>\n",
       "    <tr>\n",
       "      <td>41</td>\n",
       "      <td>0.783232</td>\n",
       "      <td>0.844219</td>\n",
       "      <td>0.813726</td>\n",
       "      <td>77</td>\n",
       "    </tr>\n",
       "  </tbody>\n",
       "</table>\n",
       "</div>"
      ],
      "text/plain": [
       "     MONTHLY_SALES  MONTHLY_CUST  mean_corr  TRIAL_STR\n",
       "233       0.903774      0.990358   0.947066         77\n",
       "119       0.867664      0.983267   0.925466         77\n",
       "71        0.914106      0.754817   0.834461         77\n",
       "3         0.806644      0.834207   0.820426         77\n",
       "41        0.783232      0.844219   0.813726         77"
      ]
     },
     "metadata": {},
     "output_type": "display_data"
    },
    {
     "data": {
      "text/html": [
       "<div>\n",
       "<style scoped>\n",
       "    .dataframe tbody tr th:only-of-type {\n",
       "        vertical-align: middle;\n",
       "    }\n",
       "\n",
       "    .dataframe tbody tr th {\n",
       "        vertical-align: top;\n",
       "    }\n",
       "\n",
       "    .dataframe thead th {\n",
       "        text-align: right;\n",
       "    }\n",
       "</style>\n",
       "<table border=\"1\" class=\"dataframe\">\n",
       "  <thead>\n",
       "    <tr style=\"text-align: right;\">\n",
       "      <th></th>\n",
       "      <th>MONTHLY_SALES</th>\n",
       "      <th>MONTHLY_CUST</th>\n",
       "      <th>mean_corr</th>\n",
       "      <th>TRIAL_STR</th>\n",
       "    </tr>\n",
       "  </thead>\n",
       "  <tbody>\n",
       "    <tr>\n",
       "      <td>155</td>\n",
       "      <td>0.877882</td>\n",
       "      <td>0.942876</td>\n",
       "      <td>0.910379</td>\n",
       "      <td>86</td>\n",
       "    </tr>\n",
       "    <tr>\n",
       "      <td>23</td>\n",
       "      <td>0.784698</td>\n",
       "      <td>0.943559</td>\n",
       "      <td>0.864128</td>\n",
       "      <td>86</td>\n",
       "    </tr>\n",
       "    <tr>\n",
       "      <td>120</td>\n",
       "      <td>0.872693</td>\n",
       "      <td>0.815097</td>\n",
       "      <td>0.843895</td>\n",
       "      <td>86</td>\n",
       "    </tr>\n",
       "    <tr>\n",
       "      <td>114</td>\n",
       "      <td>0.734415</td>\n",
       "      <td>0.855339</td>\n",
       "      <td>0.794877</td>\n",
       "      <td>86</td>\n",
       "    </tr>\n",
       "    <tr>\n",
       "      <td>260</td>\n",
       "      <td>0.720350</td>\n",
       "      <td>0.846502</td>\n",
       "      <td>0.783426</td>\n",
       "      <td>86</td>\n",
       "    </tr>\n",
       "  </tbody>\n",
       "</table>\n",
       "</div>"
      ],
      "text/plain": [
       "     MONTHLY_SALES  MONTHLY_CUST  mean_corr  TRIAL_STR\n",
       "155       0.877882      0.942876   0.910379         86\n",
       "23        0.784698      0.943559   0.864128         86\n",
       "120       0.872693      0.815097   0.843895         86\n",
       "114       0.734415      0.855339   0.794877         86\n",
       "260       0.720350      0.846502   0.783426         86"
      ]
     },
     "metadata": {},
     "output_type": "display_data"
    },
    {
     "data": {
      "text/html": [
       "<div>\n",
       "<style scoped>\n",
       "    .dataframe tbody tr th:only-of-type {\n",
       "        vertical-align: middle;\n",
       "    }\n",
       "\n",
       "    .dataframe tbody tr th {\n",
       "        vertical-align: top;\n",
       "    }\n",
       "\n",
       "    .dataframe thead th {\n",
       "        text-align: right;\n",
       "    }\n",
       "</style>\n",
       "<table border=\"1\" class=\"dataframe\">\n",
       "  <thead>\n",
       "    <tr style=\"text-align: right;\">\n",
       "      <th></th>\n",
       "      <th>MONTHLY_SALES</th>\n",
       "      <th>MONTHLY_CUST</th>\n",
       "      <th>mean_corr</th>\n",
       "      <th>TRIAL_STR</th>\n",
       "    </tr>\n",
       "  </thead>\n",
       "  <tbody>\n",
       "    <tr>\n",
       "      <td>178</td>\n",
       "      <td>0.731857</td>\n",
       "      <td>0.939466</td>\n",
       "      <td>0.835661</td>\n",
       "      <td>88</td>\n",
       "    </tr>\n",
       "    <tr>\n",
       "      <td>14</td>\n",
       "      <td>0.698557</td>\n",
       "      <td>0.942976</td>\n",
       "      <td>0.820767</td>\n",
       "      <td>88</td>\n",
       "    </tr>\n",
       "    <tr>\n",
       "      <td>133</td>\n",
       "      <td>0.735407</td>\n",
       "      <td>0.835426</td>\n",
       "      <td>0.785417</td>\n",
       "      <td>88</td>\n",
       "    </tr>\n",
       "    <tr>\n",
       "      <td>204</td>\n",
       "      <td>0.885774</td>\n",
       "      <td>0.550263</td>\n",
       "      <td>0.718018</td>\n",
       "      <td>88</td>\n",
       "    </tr>\n",
       "    <tr>\n",
       "      <td>134</td>\n",
       "      <td>0.864293</td>\n",
       "      <td>0.508880</td>\n",
       "      <td>0.686587</td>\n",
       "      <td>88</td>\n",
       "    </tr>\n",
       "  </tbody>\n",
       "</table>\n",
       "</div>"
      ],
      "text/plain": [
       "     MONTHLY_SALES  MONTHLY_CUST  mean_corr  TRIAL_STR\n",
       "178       0.731857      0.939466   0.835661         88\n",
       "14        0.698557      0.942976   0.820767         88\n",
       "133       0.735407      0.835426   0.785417         88\n",
       "204       0.885774      0.550263   0.718018         88\n",
       "134       0.864293      0.508880   0.686587         88"
      ]
     },
     "metadata": {},
     "output_type": "display_data"
    }
   ],
   "source": [
    "trial_stores = [77,86,88]\n",
    "for store in trial_stores:\n",
    "    corr_df = calc_correlation(store).drop(store)\n",
    "    display(corr_df.head())"
   ]
  },
  {
   "cell_type": "markdown",
   "metadata": {},
   "source": [
    "Now that we have found the most related control store for each trial store, let's check visually if the drivers are indeed similar in the period before the trial. We'll look at total sales first"
   ]
  },
  {
   "cell_type": "code",
   "execution_count": 24,
   "metadata": {},
   "outputs": [
    {
     "data": {
      "text/plain": [
       "YEAR_MONTH\n",
       "2018-07    72.333333\n",
       "2018-08    72.120155\n",
       "2018-09    70.131783\n",
       "2018-10    71.608527\n",
       "2018-11    70.801556\n",
       "2018-12    73.785992\n",
       "2019-01    71.240310\n",
       "Freq: M, Name: MONTHLY_CUST, dtype: float64"
      ]
     },
     "execution_count": 24,
     "metadata": {},
     "output_type": "execute_result"
    }
   ],
   "source": [
    "others = metrics_df.iloc[~metrics_df.index.get_level_values('STORE_NBR').isin([77,233])][['MONTHLY_SALES','MONTHLY_CUST']].reset_index()\n",
    "others_sales = others.groupby(['YEAR_MONTH'])['MONTHLY_SALES'].mean()\n",
    "other_cust = others.groupby(['YEAR_MONTH'])['MONTHLY_CUST'].mean()\n",
    "other_cust"
   ]
  },
  {
   "cell_type": "code",
   "execution_count": 32,
   "metadata": {},
   "outputs": [],
   "source": [
    "def compare_corr(trial,control,title, metric, others):\n",
    "    metrics_df.loc[trial][metric].plot(kind = 'line', color = 'g')\n",
    "    metrics_df.loc[control][metric].plot(kind = 'line', color = 'r')\n",
    "    others.plot(kind='line',color = 'b')\n",
    "    plt.title(title)\n",
    "    plt.legend(labels = (f'trial:{trial}', f'control:{control}','others'),loc='center left', bbox_to_anchor=(1.0, 0.5))\n",
    "    plt.xticks(rotation=0)\n",
    "    plt.show()"
   ]
  },
  {
   "cell_type": "code",
   "execution_count": 33,
   "metadata": {},
   "outputs": [
    {
     "data": {
      "image/png": "[encoded data removed]",
      "text/plain": [
       "<Figure size 432x288 with 1 Axes>"
      ]
     },
     "metadata": {
      "needs_background": "light"
     },
     "output_type": "display_data"
    },
    {
     "data": {
      "image/png": "[encoded data removed]",
      "text/plain": [
       "<Figure size 432x288 with 1 Axes>"
      ]
     },
     "metadata": {
      "needs_background": "light"
     },
     "output_type": "display_data"
    },
    {
     "data": {
      "image/png": "[encoded data removed]",
      "text/plain": [
       "<Figure size 432x288 with 1 Axes>"
      ]
     },
     "metadata": {
      "needs_background": "light"
     },
     "output_type": "display_data"
    }
   ],
   "source": [
    "compare_corr(77,233,\"Montly Salse\",'MONTHLY_SALES',others_sales)\n",
    "compare_corr(86,155,\"Montly Salse\",'MONTHLY_SALES',others_sales)\n",
    "compare_corr(88,178,\"Montly Salse\",'MONTHLY_SALES',others_sales)"
   ]
  },
  {
   "cell_type": "code",
   "execution_count": 34,
   "metadata": {
    "scrolled": false
   },
   "outputs": [
    {
     "data": {
      "image/png": "[encoded data removed]",
      "text/plain": [
       "<Figure size 432x288 with 1 Axes>"
      ]
     },
     "metadata": {
      "needs_background": "light"
     },
     "output_type": "display_data"
    },
    {
     "data": {
      "image/png": "[encoded data removed]",
      "text/plain": [
       "<Figure size 432x288 with 1 Axes>"
      ]
     },
     "metadata": {
      "needs_background": "light"
     },
     "output_type": "display_data"
    },
    {
     "data": {
      "image/png": "[encoded data removed]",
      "text/plain": [
       "<Figure size 432x288 with 1 Axes>"
      ]
     },
     "metadata": {
      "needs_background": "light"
     },
     "output_type": "display_data"
    }
   ],
   "source": [
    "compare_corr(77,233,\"Montly Customer Count\",'MONTHLY_CUST',other_cust)\n",
    "compare_corr(86,155,\"Montly Customer Count\",'MONTHLY_CUST',other_cust)\n",
    "compare_corr(88,178,\"Montly Customer Count\",'MONTHLY_CUST',other_cust)"
   ]
  },
  {
   "cell_type": "markdown",
   "metadata": {},
   "source": [
    "Even there is different for trial store and control store but they follow a similar trend.\n",
    "- Null Hypothsis H0 = 0 difference between control store and trial store\n",
    "- Alternative Hypotheis Ha = there is difference\n",
    "- if the p-value < 5% then we can reject the H0, it is statistical significantly different\n",
    "- if the p-value > 5% then we need to accept the H0, it is not statistical significantly different"
   ]
  },
  {
   "cell_type": "code",
   "execution_count": 28,
   "metadata": {},
   "outputs": [],
   "source": [
    "from scipy.stats import ks_2samp,ttest_ind,t"
   ]
  },
  {
   "cell_type": "code",
   "execution_count": 29,
   "metadata": {},
   "outputs": [],
   "source": [
    "def pvalue_calculation(trial, control):\n",
    "    cols_under_consideration = ['MONTHLY_SALES', 'MONTHLY_CUST']\n",
    "    a=[]\n",
    "    for x in metrics_df[cols_under_consideration]:\n",
    "        a.append(ks_2samp(metrics_df.loc[trial][x], metrics_df.loc[control][x]))\n",
    "    print(f\"Trial: {trial}; Control: {control}\")\n",
    "    a=pd.DataFrame(a, index = cols_under_consideration)\n",
    "    display(a.head())"
   ]
  },
  {
   "cell_type": "code",
   "execution_count": 30,
   "metadata": {},
   "outputs": [
    {
     "name": "stdout",
     "output_type": "stream",
     "text": [
      "Trial: 77; Control: 233\n"
     ]
    },
    {
     "data": {
      "text/html": [
       "<div>\n",
       "<style scoped>\n",
       "    .dataframe tbody tr th:only-of-type {\n",
       "        vertical-align: middle;\n",
       "    }\n",
       "\n",
       "    .dataframe tbody tr th {\n",
       "        vertical-align: top;\n",
       "    }\n",
       "\n",
       "    .dataframe thead th {\n",
       "        text-align: right;\n",
       "    }\n",
       "</style>\n",
       "<table border=\"1\" class=\"dataframe\">\n",
       "  <thead>\n",
       "    <tr style=\"text-align: right;\">\n",
       "      <th></th>\n",
       "      <th>statistic</th>\n",
       "      <th>pvalue</th>\n",
       "    </tr>\n",
       "  </thead>\n",
       "  <tbody>\n",
       "    <tr>\n",
       "      <td>MONTHLY_SALES</td>\n",
       "      <td>0.285714</td>\n",
       "      <td>0.962704</td>\n",
       "    </tr>\n",
       "    <tr>\n",
       "      <td>MONTHLY_CUST</td>\n",
       "      <td>0.142857</td>\n",
       "      <td>1.000000</td>\n",
       "    </tr>\n",
       "  </tbody>\n",
       "</table>\n",
       "</div>"
      ],
      "text/plain": [
       "               statistic    pvalue\n",
       "MONTHLY_SALES   0.285714  0.962704\n",
       "MONTHLY_CUST    0.142857  1.000000"
      ]
     },
     "metadata": {},
     "output_type": "display_data"
    },
    {
     "name": "stdout",
     "output_type": "stream",
     "text": [
      "Trial: 86; Control: 155\n"
     ]
    },
    {
     "data": {
      "text/html": [
       "<div>\n",
       "<style scoped>\n",
       "    .dataframe tbody tr th:only-of-type {\n",
       "        vertical-align: middle;\n",
       "    }\n",
       "\n",
       "    .dataframe tbody tr th {\n",
       "        vertical-align: top;\n",
       "    }\n",
       "\n",
       "    .dataframe thead th {\n",
       "        text-align: right;\n",
       "    }\n",
       "</style>\n",
       "<table border=\"1\" class=\"dataframe\">\n",
       "  <thead>\n",
       "    <tr style=\"text-align: right;\">\n",
       "      <th></th>\n",
       "      <th>statistic</th>\n",
       "      <th>pvalue</th>\n",
       "    </tr>\n",
       "  </thead>\n",
       "  <tbody>\n",
       "    <tr>\n",
       "      <td>MONTHLY_SALES</td>\n",
       "      <td>0.285714</td>\n",
       "      <td>0.962704</td>\n",
       "    </tr>\n",
       "    <tr>\n",
       "      <td>MONTHLY_CUST</td>\n",
       "      <td>0.285714</td>\n",
       "      <td>0.962704</td>\n",
       "    </tr>\n",
       "  </tbody>\n",
       "</table>\n",
       "</div>"
      ],
      "text/plain": [
       "               statistic    pvalue\n",
       "MONTHLY_SALES   0.285714  0.962704\n",
       "MONTHLY_CUST    0.285714  0.962704"
      ]
     },
     "metadata": {},
     "output_type": "display_data"
    },
    {
     "name": "stdout",
     "output_type": "stream",
     "text": [
      "Trial: 88; Control: 178\n"
     ]
    },
    {
     "data": {
      "text/html": [
       "<div>\n",
       "<style scoped>\n",
       "    .dataframe tbody tr th:only-of-type {\n",
       "        vertical-align: middle;\n",
       "    }\n",
       "\n",
       "    .dataframe tbody tr th {\n",
       "        vertical-align: top;\n",
       "    }\n",
       "\n",
       "    .dataframe thead th {\n",
       "        text-align: right;\n",
       "    }\n",
       "</style>\n",
       "<table border=\"1\" class=\"dataframe\">\n",
       "  <thead>\n",
       "    <tr style=\"text-align: right;\">\n",
       "      <th></th>\n",
       "      <th>statistic</th>\n",
       "      <th>pvalue</th>\n",
       "    </tr>\n",
       "  </thead>\n",
       "  <tbody>\n",
       "    <tr>\n",
       "      <td>MONTHLY_SALES</td>\n",
       "      <td>1.0</td>\n",
       "      <td>0.000583</td>\n",
       "    </tr>\n",
       "    <tr>\n",
       "      <td>MONTHLY_CUST</td>\n",
       "      <td>1.0</td>\n",
       "      <td>0.000583</td>\n",
       "    </tr>\n",
       "  </tbody>\n",
       "</table>\n",
       "</div>"
      ],
      "text/plain": [
       "               statistic    pvalue\n",
       "MONTHLY_SALES        1.0  0.000583\n",
       "MONTHLY_CUST         1.0  0.000583"
      ]
     },
     "metadata": {},
     "output_type": "display_data"
    }
   ],
   "source": [
    "pvalue_calculation(77,233)\n",
    "pvalue_calculation(86,155)\n",
    "pvalue_calculation(88,178)"
   ]
  },
  {
   "cell_type": "markdown",
   "metadata": {},
   "source": [
    "For store number 77 and 86, the p-value for both monthly sales and monthly customer are a lot bigger than 5%, so there is not statistical significantly different. But for store number 88, the p-value is smaller than 5%, we can say that there is statistical significantly different between 2 stores."
   ]
  },
  {
   "cell_type": "code",
   "execution_count": 51,
   "metadata": {},
   "outputs": [
    {
     "name": "stdout",
     "output_type": "stream",
     "text": [
      "1.0753829282960132 1.0006021290908322 0.2689670426896704\n"
     ]
    }
   ],
   "source": [
    "# Ratio of store 77 and its control store\n",
    "sales_ratio_77 = transaction[transaction['STORE_NBR']==77]['TOT_SALES'].sum()/transaction[transaction['STORE_NBR']==233]['TOT_SALES'].sum()\n",
    "# Ratio of store 86 and its control store\n",
    "sales_ratio_86 = transaction[transaction['STORE_NBR']==86]['TOT_SALES'].sum()/transaction[transaction['STORE_NBR']==155]['TOT_SALES'].sum()\n",
    "# Ratio of store 88 and its control store\n",
    "sales_ratio_88 = transaction[transaction['STORE_NBR']==77]['TOT_SALES'].sum()/transaction[transaction['STORE_NBR']==178]['TOT_SALES'].sum()\n",
    "print(sales_ratio_77,sales_ratio_86,sales_ratio_88 )"
   ]
  },
  {
   "cell_type": "code",
   "execution_count": null,
   "metadata": {},
   "outputs": [],
   "source": []
  },
  {
   "cell_type": "markdown",
   "metadata": {},
   "source": [
    "### Assessment of Trial\n",
    "The trial period goes from the start of March 2019 to June 2019. We now want to see if there has been an uplift in overall chip sales. We’ll start with scaling the control store’s sales to a level similar to control for any differences between the two stores outside of the trial period.\n",
    "- We will compare the trial store with the control store in the trial period (Feb. 2019 to Apr. 2019)"
   ]
  },
  {
   "cell_type": "code",
   "execution_count": 31,
   "metadata": {},
   "outputs": [
    {
     "data": {
      "text/html": [
       "<div>\n",
       "<style scoped>\n",
       "    .dataframe tbody tr th:only-of-type {\n",
       "        vertical-align: middle;\n",
       "    }\n",
       "\n",
       "    .dataframe tbody tr th {\n",
       "        vertical-align: top;\n",
       "    }\n",
       "\n",
       "    .dataframe thead th {\n",
       "        text-align: right;\n",
       "    }\n",
       "</style>\n",
       "<table border=\"1\" class=\"dataframe\">\n",
       "  <thead>\n",
       "    <tr style=\"text-align: right;\">\n",
       "      <th></th>\n",
       "      <th></th>\n",
       "      <th>MONTHLY_SALES</th>\n",
       "      <th>MONTHLY_CUST</th>\n",
       "      <th>MONTHLY_TRANS_PER_CUST</th>\n",
       "      <th>MONTHLY_CHIPS_PER_TRANS</th>\n",
       "      <th>AVG_PRICE_PER_UNIT</th>\n",
       "    </tr>\n",
       "    <tr>\n",
       "      <th>STORE_NBR</th>\n",
       "      <th>YEAR_MONTH</th>\n",
       "      <th></th>\n",
       "      <th></th>\n",
       "      <th></th>\n",
       "      <th></th>\n",
       "      <th></th>\n",
       "    </tr>\n",
       "  </thead>\n",
       "  <tbody>\n",
       "    <tr>\n",
       "      <td rowspan=\"5\" valign=\"top\">1</td>\n",
       "      <td>2019-02</td>\n",
       "      <td>225.4</td>\n",
       "      <td>52</td>\n",
       "      <td>1.057692</td>\n",
       "      <td>1.250000</td>\n",
       "      <td>3.467692</td>\n",
       "    </tr>\n",
       "    <tr>\n",
       "      <td>2019-03</td>\n",
       "      <td>192.9</td>\n",
       "      <td>45</td>\n",
       "      <td>1.088889</td>\n",
       "      <td>1.288889</td>\n",
       "      <td>3.325862</td>\n",
       "    </tr>\n",
       "    <tr>\n",
       "      <td>2019-04</td>\n",
       "      <td>192.9</td>\n",
       "      <td>42</td>\n",
       "      <td>1.023810</td>\n",
       "      <td>1.357143</td>\n",
       "      <td>3.384211</td>\n",
       "    </tr>\n",
       "    <tr>\n",
       "      <td>2019-05</td>\n",
       "      <td>221.4</td>\n",
       "      <td>46</td>\n",
       "      <td>1.108696</td>\n",
       "      <td>1.434783</td>\n",
       "      <td>3.354545</td>\n",
       "    </tr>\n",
       "    <tr>\n",
       "      <td>2019-06</td>\n",
       "      <td>174.1</td>\n",
       "      <td>42</td>\n",
       "      <td>1.023810</td>\n",
       "      <td>1.261905</td>\n",
       "      <td>3.284906</td>\n",
       "    </tr>\n",
       "  </tbody>\n",
       "</table>\n",
       "</div>"
      ],
      "text/plain": [
       "                      MONTHLY_SALES  MONTHLY_CUST  MONTHLY_TRANS_PER_CUST  \\\n",
       "STORE_NBR YEAR_MONTH                                                        \n",
       "1         2019-02             225.4            52                1.057692   \n",
       "          2019-03             192.9            45                1.088889   \n",
       "          2019-04             192.9            42                1.023810   \n",
       "          2019-05             221.4            46                1.108696   \n",
       "          2019-06             174.1            42                1.023810   \n",
       "\n",
       "                      MONTHLY_CHIPS_PER_TRANS  AVG_PRICE_PER_UNIT  \n",
       "STORE_NBR YEAR_MONTH                                               \n",
       "1         2019-02                    1.250000            3.467692  \n",
       "          2019-03                    1.288889            3.325862  \n",
       "          2019-04                    1.357143            3.384211  \n",
       "          2019-05                    1.434783            3.354545  \n",
       "          2019-06                    1.261905            3.284906  "
      ]
     },
     "execution_count": 31,
     "metadata": {},
     "output_type": "execute_result"
    }
   ],
   "source": [
    "trial_df = store_measures[store_measures['YEAR_MONTH']>=\"2019-02\"]\n",
    "trial_metrics_df = extract_metrics(trial_df)\n",
    "trial_metrics_df.head()"
   ]
  },
  {
   "cell_type": "code",
   "execution_count": 35,
   "metadata": {},
   "outputs": [
    {
     "data": {
      "text/plain": [
       "1.9431802803927818"
      ]
     },
     "execution_count": 35,
     "metadata": {},
     "output_type": "execute_result"
    }
   ],
   "source": [
    "# crtical value under 95% confidence \n",
    "# degree of freedom = n-1; there are 7 months in the pre-trial period (<201902)\n",
    "# Hence 7-1 = 6 degrees of freedom\n",
    "t.ppf(0.95, df=6)"
   ]
  },
  {
   "cell_type": "code",
   "execution_count": 43,
   "metadata": {},
   "outputs": [
    {
     "data": {
      "text/plain": [
       "<matplotlib.axes._subplots.AxesSubplot at 0x1c210c6c608>"
      ]
     },
     "execution_count": 43,
     "metadata": {},
     "output_type": "execute_result"
    },
    {
     "data": {
      "image/png": "[encoded data removed]",
      "text/plain": [
       "<Figure size 432x288 with 1 Axes>"
      ]
     },
     "metadata": {
      "needs_background": "light"
     },
     "output_type": "display_data"
    }
   ],
   "source": [
    "import seaborn as sns\n",
    "# sns.distplot(trial_metrics_df.loc[77]['MONTHLY_SALES'])\n",
    "sns.distplot(trial_metrics_df.loc[233]['MONTHLY_SALES'])"
   ]
  },
  {
   "cell_type": "code",
   "execution_count": null,
   "metadata": {},
   "outputs": [],
   "source": []
  }
 ],
 "metadata": {
  "kernelspec": {
   "display_name": "Python 3",
   "language": "python",
   "name": "python3"
  },
  "language_info": {
   "codemirror_mode": {
    "name": "ipython",
    "version": 3
   },
   "file_extension": ".py",
   "mimetype": "text/x-python",
   "name": "python",
   "nbconvert_exporter": "python",
   "pygments_lexer": "ipython3",
   "version": "3.7.4"
  }
 },
 "nbformat": 4,
 "nbformat_minor": 4
}
